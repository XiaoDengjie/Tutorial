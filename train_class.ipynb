{
 "cells": [
  {
   "cell_type": "markdown",
   "metadata": {},
   "source": [
    "# Python3 面向对象\n",
    "## 概念简介\n",
    "\n",
    "Python从设计之初就已经是一门面向对象的语言，正因为如此，在Python中创建一个类和对象是很容易的。本章节我们将详细介绍Python的面向对象编程。  \n",
    "如果你以前没有接触过面向对象的编程语言，那你可能需要先了解一些面向对象语言的一些基本特征，在头脑里头形成一个基本的面向对象的概念，这样有助于你更容易的学习Python的面向对象编程。  \n",
    "接下来我们先来简单的了解下面向对象的一些基本特征。\n",
    "\n",
    "面向对象技术简介  \n",
    "**类(Class):** 用来描述具有相同的属性和方法的对象的集合。它定义了该集合中每个对象所共有的属性和方法。对象是类的实例。  \n",
    "**方法：**类中定义的函数。  \n",
    "__类变量__：类变量在整个实例化的对象中是公用的。类变量定义在类中且在函数体之外。类变量通常不作为实例变量使用。  \n",
    "__数据成员__：类变量或者实例变量用于处理类及其实例对象的相关的数据。  \n",
    "**方法重写**：如果从父类继承的方法不能满足子类的需求，可以对其进行改写，这个过程叫方法的覆盖（override），也称为方法的重写。  \n",
    "**局部变量**：定义在方法中的变量，只作用于当前实例的类。  \n",
    "**实例变量**：在类的声明中，属性是用变量来表示的。这种变量就称为实例变量，是在类声明的内部但是在类的其他成员方法之外声明的。  \n",
    "**继承**：即一个派生类（derived class）继承基类（base class）的字段和方法。继承也允许把一个派生类的对象作为一个基类对象对待。例如，有这样一个设计：一个Dog类型的对象派生自Animal类，这是模拟\"是一个（is-a）\"关系（例图，Dog是一个Animal）。  \n",
    "**实例化**：创建一个类的实例，类的具体对象。  \n",
    "**对象**：通过类定义的数据结构实例。对象包括两个数据成员（类变量和实例变量）和方法。  \n",
    "和其它编程语言相比，Python 在尽可能不增加新的语法和语义的情况下加入了类机制。  \n",
    "Python中的类提供了面向对象编程的所有基本功能：类的继承机制允许多个基类，派生类可以覆盖基类中的任何方法，方法中可以调用基类中的同名方法。  \n",
    "对象可以包含任意数量和类型的数据。  \n",
    "https://www.runoob.com/python3/python3-class.html"
   ]
  },
  {
   "cell_type": "markdown",
   "metadata": {},
   "source": [
    "## 写一个例子， People父类， 有一个子类Student\n",
    "\n",
    "注意： 类的首字母大写(根据Pascal命名风格)  \n",
    "##### 开始写父类People"
   ]
  },
  {
   "cell_type": "code",
   "execution_count": 4,
   "metadata": {},
   "outputs": [
    {
     "name": "stdout",
     "output_type": "stream",
     "text": [
      "Tim说: 我13岁。\n"
     ]
    }
   ],
   "source": [
    "class People():\n",
    "    #定义基本属性\n",
    "    name = ''\n",
    "    age = ''\n",
    "    #定义私有属性， （前面有两个下划线'__'）\n",
    "    __weight = 0\n",
    "    #初始化函数，定义构造方法\n",
    "    def __init__(self, n, a, w):\n",
    "        self.name = n\n",
    "        self.age = a\n",
    "        self.__weight = w\n",
    "    def speak(self):\n",
    "        print(\"{}说: 我{}岁。\".format(self.name, self.age))\n",
    "\n",
    "Tim = People(\"Tim\", '13','50')\n",
    "Tim.speak()\n",
    "    "
   ]
  },
  {
   "cell_type": "markdown",
   "metadata": {},
   "source": [
    "## 继承\n",
    "#### 类的继承，调用父类构造与函数覆写\n",
    "### 开始写子类 Student  "
   ]
  },
  {
   "cell_type": "code",
   "execution_count": 7,
   "metadata": {},
   "outputs": [
    {
     "name": "stdout",
     "output_type": "stream",
     "text": [
      "XiaoMing说：我今年13岁，上2年级。\n"
     ]
    }
   ],
   "source": [
    "class Student(People):\n",
    "    grade = ''\n",
    "    def __init__(self, n, a, w, g):\n",
    "        #调用父类构造\n",
    "        People.__init__(self, n, a, w)\n",
    "        self.grade = g\n",
    "    def speak(self):\n",
    "        #覆盖了父类的speak函数\n",
    "        print(\"{}说：我今年{}岁，上{}年级。\".format(self.name, self.age, self.grade))\n",
    "\n",
    "XiaoMing = Student('XiaoMing', '13', 50, 2)\n",
    "XiaoMing.speak()"
   ]
  },
  {
   "cell_type": "markdown",
   "metadata": {},
   "source": [
    "## 多继承  \n",
    "需要注意圆括号中父类的顺序，若是父类中有相同的方法名，而在子类使用时未指定，python从左至右搜索 即方法在子类中未找到时，从左到右查找父类中是否包含方法。  \n",
    "### 新创建一个Speaker类， 有个类StudentSpeaker既是Student又是Speaker\n",
    "Student和Speaker同时有speak方法， 因为Speaker在左边，所以调用的是Speaker的speak方法。  "
   ]
  },
  {
   "cell_type": "code",
   "execution_count": 17,
   "metadata": {},
   "outputs": [
    {
     "name": "stdout",
     "output_type": "stream",
     "text": [
      "Bob说：我的topic是Physics。\n"
     ]
    }
   ],
   "source": [
    "class Speaker():\n",
    "    name = ''\n",
    "    topic = ''\n",
    "    def __init__(self, n, t):\n",
    "        self.name = n\n",
    "        self.topic = t\n",
    "    def speak(self):\n",
    "        print('{}说：我的topic是{}。'.format(self.name, self.topic))\n",
    "\n",
    "class StudentSpeaker(Speaker, Student):\n",
    "    def __init__(self, n, a, w, g, t):\n",
    "        Student.__init__(self, n, a, w, g)\n",
    "        Speaker.__init__(self, n, t)\n",
    "\n",
    "Bob = StudentSpeaker('Bob', 15, 50, 2, \"Physics\")\n",
    "Bob.speak()"
   ]
  },
  {
   "cell_type": "markdown",
   "metadata": {},
   "source": [
    "### 用子类对象调用父类已被覆盖的方法"
   ]
  },
  {
   "cell_type": "code",
   "execution_count": 16,
   "metadata": {},
   "outputs": [
    {
     "name": "stdout",
     "output_type": "stream",
     "text": [
      "XM说：我今年13岁，上2年级。\n",
      "XM说: 我13岁。\n"
     ]
    }
   ],
   "source": [
    "XM = Student('XM', 13, 50, 2)\n",
    "XM.speak() #speak 已被覆写在Student中\n",
    "super(Student, XM).speak() #用子类对象调用父类被覆盖的方法"
   ]
  },
  {
   "cell_type": "code",
   "execution_count": null,
   "metadata": {},
   "outputs": [],
   "source": []
  }
 ],
 "metadata": {
  "kernelspec": {
   "display_name": "MLinBEPC",
   "language": "python",
   "name": "mlinbepc"
  },
  "language_info": {
   "codemirror_mode": {
    "name": "ipython",
    "version": 3
   },
   "file_extension": ".py",
   "mimetype": "text/x-python",
   "name": "python",
   "nbconvert_exporter": "python",
   "pygments_lexer": "ipython3",
   "version": "3.6.7"
  }
 },
 "nbformat": 4,
 "nbformat_minor": 2
}
